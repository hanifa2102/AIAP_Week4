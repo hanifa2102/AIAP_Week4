{
 "cells": [
  {
   "cell_type": "markdown",
   "metadata": {},
   "source": [
    "# Part 2. Deep Learning Frameworks"
   ]
  },
  {
   "cell_type": "markdown",
   "metadata": {},
   "source": [
    "Before we go into deep learning modelling, we will first need to have a quick familiarisation with a deep learning framework. We recommend __[Keras](https://keras.io)__, which is built on top of Tensorflow, but alternatively, you can consider __[PyTorch](https://pytorch.org)__. Resources are abundant online on how to use them, but here are some official guides to get you started:\n",
    "- PyTorch has a [60 Minute Blitz Guide](https://pytorch.org/tutorials/beginner/blitz/tensor_tutorial.html)\n",
    "- Tensorflow has an [Intro to Keras guide](https://www.tensorflow.org/guide/keras)\n",
    "\n",
    "A few words on the difference between Keras and PyTorch - Keras is a high level wrapper on top of Google's Tensorflow, the most popular deep learning framework out there. Being more low level, Tensorflow faces many issues and troubles, which are addressed by the abstractions of Keras, making it a great way to start. Facebook's PyTorch on the other hand is a newcomer which has received massive interest in recent years, and is playing catch up to Tensorflow/Keras.\n",
    "\n",
    "If you are more interested in how deep learning software has evolved since the days of Caffe and Theano as well as more in depth into what is happening in the software behind the scenes, we also recommend a [full lecture from Stanford](https://www.youtube.com/watch?v=6SlgtELqOWc) on this topic, although this is extra knowledge that isn't fully critical to this week."
   ]
  },
  {
   "cell_type": "markdown",
   "metadata": {},
   "source": [
    "Base on the tutorials you go through, you should be ready to build a 2 (or more) layer Multi-Level Perceptron (MLP) with deep learning. With the dataset you have prepared your machine learning model in the previous section, run your data through a MLP model with `Dense` (`Linear`) layers instead. Do some slight model adjustments, and discuss what kind of adjustments lead to improvements in score."
   ]
  },
  {
   "cell_type": "code",
   "execution_count": 61,
   "metadata": {},
   "outputs": [],
   "source": [
    "import keras\n",
    "from keras.models import Sequential\n",
    "from keras.layers import Dense\n",
    "from src.load_img import LoadImage\n",
    "from sklearn.model_selection import train_test_split\n",
    "from keras import optimizers\n",
    "from keras.callbacks import EarlyStopping\n",
    "import numpy as np\n",
    "import pandas as pd\n",
    "import seaborn as sns\n"
   ]
  },
  {
   "cell_type": "code",
   "execution_count": 2,
   "metadata": {},
   "outputs": [
    {
     "name": "stdout",
     "output_type": "stream",
     "text": [
      "\n"
     ]
    }
   ],
   "source": [
    "imgloader = LoadImage()\n",
    "imgloader.load_unpickledata()\n",
    "train_data,train_labels,test_data,test_labels=imgloader.getData()"
   ]
  },
  {
   "cell_type": "markdown",
   "metadata": {},
   "source": [
    "## 1. Data transformations/preprocessing\n",
    "\n",
    "Most neural networks expect the images of a fixed size. Therefore, you will need to write some prepocessing code. At the basic level, you will need to normalise the data. Use the appropriate data generator/loader methods to encapsulate your data for training purposes. Do the same for both the train and test (and val, if exist) sets."
   ]
  },
  {
   "cell_type": "markdown",
   "metadata": {},
   "source": [
    "__Normalizing Image Data__\n",
    "- Instead of standard scaling, which will result in negative values.\n",
    "- Since we know image pixels are bounded by 0-255 range, we normalize them between this range"
   ]
  },
  {
   "cell_type": "code",
   "execution_count": 3,
   "metadata": {},
   "outputs": [],
   "source": [
    "train_data=train_data/255\n",
    "test_data=test_data/255\n",
    "n_classes = 10\n",
    "train_labels = keras.utils.to_categorical(train_labels, n_classes)\n",
    "test_labels = keras.utils.to_categorical(test_labels, n_classes)"
   ]
  },
  {
   "cell_type": "code",
   "execution_count": 4,
   "metadata": {},
   "outputs": [],
   "source": [
    "X_train,X_test,y_train,y_test= train_test_split(train_data,train_labels,test_size=0.25,random_state=42)"
   ]
  },
  {
   "cell_type": "markdown",
   "metadata": {},
   "source": [
    "## 2.  Build multi-layer perceptron neural network models with Keras \n",
    "\n",
    "The Keras Python library for deep learning focuses on the creation of models as a sequence of layers.\n",
    "\n",
    "In here, you will discover the simple components that you can use to create neural networks and simple deep learning models using Keras."
   ]
  },
  {
   "cell_type": "code",
   "execution_count": 30,
   "metadata": {},
   "outputs": [],
   "source": [
    "numofFeatures=train_data.shape[1]\n",
    "model=Sequential()\n",
    "model.add(Dense(100, activation='relu', input_shape=(numofFeatures,)))\n",
    "model.add(Dense(100,activation='relu'))\n",
    "model.add(Dense(10, activation='softmax'))"
   ]
  },
  {
   "cell_type": "markdown",
   "metadata": {},
   "source": [
    "## 3. Train the MLP network in CIFAR-10\n",
    "\n",
    "The main objective is to train the MLP network to achieve a balance between the ability to respond correctly to the input patterns that are used for training and the ability to provide good response to the input that is similar. Use the stochastic gradient descent optimiser with an appropriate learning rate between 1e-2 and 1e-3. Report your evaluation loss and accuracy, and you can also consider doing things like early stopping to prevent overfitting and achieve the best model."
   ]
  },
  {
   "cell_type": "code",
   "execution_count": 31,
   "metadata": {},
   "outputs": [],
   "source": [
    "sgd = optimizers.SGD(lr=0.01, decay=1e-6, momentum=0.9, nesterov=True)\n",
    "model.compile(optimizer=sgd,loss='categorical_crossentropy',metrics=['accuracy'])"
   ]
  },
  {
   "cell_type": "code",
   "execution_count": 54,
   "metadata": {},
   "outputs": [
    {
     "name": "stdout",
     "output_type": "stream",
     "text": [
      "Train on 37500 samples, validate on 12500 samples\n",
      "Epoch 1/3\n",
      "37500/37500 [==============================] - 6s 166us/step - loss: 2.3025 - acc: 0.0981 - val_loss: 2.3031 - val_acc: 0.1011\n",
      "Epoch 2/3\n",
      "37500/37500 [==============================] - 6s 165us/step - loss: 2.3020 - acc: 0.1014 - val_loss: 2.3024 - val_acc: 0.1018\n",
      "Epoch 3/3\n",
      "37500/37500 [==============================] - 6s 164us/step - loss: 2.3019 - acc: 0.1008 - val_loss: 2.3031 - val_acc: 0.1015\n"
     ]
    },
    {
     "data": {
      "text/plain": [
       "<keras.callbacks.History at 0x7fbeabe05128>"
      ]
     },
     "execution_count": 54,
     "metadata": {},
     "output_type": "execute_result"
    }
   ],
   "source": [
    "model.fit(X_train,y_train,epochs=3, validation_data=(X_test,y_test))"
   ]
  },
  {
   "cell_type": "code",
   "execution_count": 33,
   "metadata": {},
   "outputs": [
    {
     "name": "stdout",
     "output_type": "stream",
     "text": [
      "Test loss: 1.6725511363983154\n",
      "Test accuracy: 0.396\n"
     ]
    }
   ],
   "source": [
    "score = model.evaluate(test_data, test_labels, verbose=0)\n",
    "print('Test loss:', score[0])\n",
    "print('Test accuracy:', score[1])"
   ]
  },
  {
   "cell_type": "markdown",
   "metadata": {},
   "source": [
    "__Batch Size__ <br>\n",
    "-Increaseing the batch size, gives a boost in the val_accuracy"
   ]
  },
  {
   "cell_type": "code",
   "execution_count": 64,
   "metadata": {},
   "outputs": [
    {
     "name": "stdout",
     "output_type": "stream",
     "text": [
      "Train on 37500 samples, validate on 12500 samples\n",
      "Epoch 1/3\n",
      "37500/37500 [==============================] - 156s 4ms/step - loss: 2.3263 - acc: 0.0980 - val_loss: 2.3106 - val_acc: 0.1010\n",
      "Epoch 2/3\n",
      "37500/37500 [==============================] - 153s 4ms/step - loss: 2.3243 - acc: 0.0989 - val_loss: 2.3163 - val_acc: 0.0970\n",
      "Epoch 3/3\n",
      "37500/37500 [==============================] - 164s 4ms/step - loss: 2.3225 - acc: 0.1011 - val_loss: 2.3270 - val_acc: 0.0975\n"
     ]
    },
    {
     "data": {
      "text/plain": [
       "<keras.callbacks.History at 0x7fbed77d61d0>"
      ]
     },
     "execution_count": 64,
     "metadata": {},
     "output_type": "execute_result"
    }
   ],
   "source": [
    "numofFeatures=train_data.shape[1]\n",
    "model=Sequential()\n",
    "model.add(Dense(100, activation='relu', input_shape=(numofFeatures,)))\n",
    "model.add(Dense(100,activation='relu'))\n",
    "model.add(Dense(10, activation='softmax'))\n",
    "\n",
    "sgd = optimizers.SGD(lr=0.01, decay=1e-6, momentum=0.9, nesterov=True)\n",
    "model.compile(optimizer=sgd,loss='categorical_crossentropy',metrics=['accuracy'])\n",
    "\n",
    "model.fit(X_train,y_train,epochs=3, validation_data=(X_test,y_test),batch_size=1)"
   ]
  },
  {
   "cell_type": "code",
   "execution_count": 55,
   "metadata": {},
   "outputs": [
    {
     "name": "stdout",
     "output_type": "stream",
     "text": [
      "Train on 37500 samples, validate on 12500 samples\n",
      "Epoch 1/3\n",
      "37500/37500 [==============================] - 2s 43us/step - loss: 2.0204 - acc: 0.2705 - val_loss: 1.8755 - val_acc: 0.3318\n",
      "Epoch 2/3\n",
      "37500/37500 [==============================] - 1s 32us/step - loss: 1.7971 - acc: 0.3647 - val_loss: 1.7369 - val_acc: 0.3864\n",
      "Epoch 3/3\n",
      "37500/37500 [==============================] - 1s 31us/step - loss: 1.7156 - acc: 0.3979 - val_loss: 1.6818 - val_acc: 0.4079\n"
     ]
    },
    {
     "data": {
      "text/plain": [
       "<keras.callbacks.History at 0x7fbeac13eb38>"
      ]
     },
     "execution_count": 55,
     "metadata": {},
     "output_type": "execute_result"
    }
   ],
   "source": [
    "numofFeatures=train_data.shape[1]\n",
    "model=Sequential()\n",
    "model.add(Dense(100, activation='relu', input_shape=(numofFeatures,)))\n",
    "model.add(Dense(100,activation='relu'))\n",
    "model.add(Dense(10, activation='softmax'))\n",
    "\n",
    "sgd = optimizers.SGD(lr=0.01, decay=1e-6, momentum=0.9, nesterov=True)\n",
    "model.compile(optimizer=sgd,loss='categorical_crossentropy',metrics=['accuracy'])\n",
    "\n",
    "model.fit(X_train,y_train,epochs=3, validation_data=(X_test,y_test),batch_size=500)"
   ]
  },
  {
   "cell_type": "markdown",
   "metadata": {},
   "source": [
    "__Varying Learning Rates and early stopping__"
   ]
  },
  {
   "cell_type": "code",
   "execution_count": 56,
   "metadata": {},
   "outputs": [
    {
     "name": "stdout",
     "output_type": "stream",
     "text": [
      "Train on 37500 samples, validate on 12500 samples\n",
      "Epoch 1/20\n",
      "37500/37500 [==============================] - 7s 186us/step - loss: 1.8636 - acc: 0.3225 - val_loss: 1.7279 - val_acc: 0.3720\n",
      "Epoch 2/20\n",
      "37500/37500 [==============================] - 6s 173us/step - loss: 1.7157 - acc: 0.3839 - val_loss: 1.7025 - val_acc: 0.3868\n",
      "Epoch 3/20\n",
      "37500/37500 [==============================] - 7s 178us/step - loss: 1.6516 - acc: 0.4075 - val_loss: 1.6212 - val_acc: 0.4147\n",
      "Epoch 4/20\n",
      "37500/37500 [==============================] - 7s 173us/step - loss: 1.6140 - acc: 0.4238 - val_loss: 1.6026 - val_acc: 0.4260\n",
      "Epoch 5/20\n",
      "37500/37500 [==============================] - 7s 173us/step - loss: 1.5879 - acc: 0.4347 - val_loss: 1.5906 - val_acc: 0.4308\n",
      "Epoch 6/20\n",
      "37500/37500 [==============================] - 7s 182us/step - loss: 1.5641 - acc: 0.4366 - val_loss: 1.6454 - val_acc: 0.4161\n",
      "Epoch 7/20\n",
      "37500/37500 [==============================] - 6s 157us/step - loss: 1.5525 - acc: 0.4443 - val_loss: 1.5766 - val_acc: 0.4340\n",
      "Epoch 8/20\n",
      "37500/37500 [==============================] - 6s 156us/step - loss: 1.5360 - acc: 0.4506 - val_loss: 1.5755 - val_acc: 0.4334\n",
      "Epoch 9/20\n",
      "37500/37500 [==============================] - 6s 148us/step - loss: 1.5231 - acc: 0.4574 - val_loss: 1.5598 - val_acc: 0.4466\n",
      "Epoch 10/20\n",
      "37500/37500 [==============================] - 6s 148us/step - loss: 1.5152 - acc: 0.4603 - val_loss: 1.5555 - val_acc: 0.4460\n",
      "Epoch 11/20\n",
      "37500/37500 [==============================] - 6s 148us/step - loss: 1.4998 - acc: 0.4651 - val_loss: 1.5357 - val_acc: 0.4562\n",
      "Epoch 12/20\n",
      "37500/37500 [==============================] - 6s 148us/step - loss: 1.4900 - acc: 0.4673 - val_loss: 1.6187 - val_acc: 0.4295\n",
      "Epoch 13/20\n",
      "37500/37500 [==============================] - 6s 148us/step - loss: 1.4834 - acc: 0.4677 - val_loss: 1.5993 - val_acc: 0.4363\n",
      "Epoch 14/20\n",
      "37500/37500 [==============================] - 6s 147us/step - loss: 1.4736 - acc: 0.4712 - val_loss: 1.6153 - val_acc: 0.4345\n",
      "Train on 37500 samples, validate on 12500 samples\n",
      "Epoch 1/20\n",
      "37500/37500 [==============================] - 6s 160us/step - loss: 1.8748 - acc: 0.3211 - val_loss: 1.8032 - val_acc: 0.3416\n",
      "Epoch 2/20\n",
      "37500/37500 [==============================] - 6s 148us/step - loss: 1.7146 - acc: 0.3867 - val_loss: 1.6583 - val_acc: 0.4048\n",
      "Epoch 3/20\n",
      "37500/37500 [==============================] - 6s 153us/step - loss: 1.6504 - acc: 0.4075 - val_loss: 1.6061 - val_acc: 0.4239\n",
      "Epoch 4/20\n",
      "37500/37500 [==============================] - 7s 177us/step - loss: 1.6083 - acc: 0.4234 - val_loss: 1.6425 - val_acc: 0.4119\n",
      "Epoch 5/20\n",
      "37500/37500 [==============================] - 6s 173us/step - loss: 1.5783 - acc: 0.4359 - val_loss: 1.6050 - val_acc: 0.4262\n",
      "Epoch 6/20\n",
      "37500/37500 [==============================] - 7s 195us/step - loss: 1.5507 - acc: 0.4463 - val_loss: 1.5882 - val_acc: 0.4282\n",
      "Epoch 7/20\n",
      "37500/37500 [==============================] - 6s 169us/step - loss: 1.5351 - acc: 0.4512 - val_loss: 1.6245 - val_acc: 0.4210\n",
      "Epoch 8/20\n",
      "37500/37500 [==============================] - 6s 155us/step - loss: 1.5154 - acc: 0.4562 - val_loss: 1.5751 - val_acc: 0.4409\n",
      "Epoch 9/20\n",
      "37500/37500 [==============================] - 7s 175us/step - loss: 1.5052 - acc: 0.4599 - val_loss: 1.5498 - val_acc: 0.4470\n",
      "Epoch 10/20\n",
      "37500/37500 [==============================] - 7s 177us/step - loss: 1.4976 - acc: 0.4600 - val_loss: 1.5570 - val_acc: 0.4446\n",
      "Epoch 11/20\n",
      "37500/37500 [==============================] - 6s 155us/step - loss: 1.4818 - acc: 0.4680 - val_loss: 1.5330 - val_acc: 0.4496\n",
      "Epoch 12/20\n",
      "37500/37500 [==============================] - 6s 160us/step - loss: 1.4713 - acc: 0.4722 - val_loss: 1.5720 - val_acc: 0.4434\n",
      "Epoch 13/20\n",
      "37500/37500 [==============================] - 7s 175us/step - loss: 1.4637 - acc: 0.4765 - val_loss: 1.5865 - val_acc: 0.4443\n",
      "Epoch 14/20\n",
      "37500/37500 [==============================] - 6s 152us/step - loss: 1.4547 - acc: 0.4798 - val_loss: 1.5458 - val_acc: 0.4483\n",
      "Train on 37500 samples, validate on 12500 samples\n",
      "Epoch 1/20\n",
      "37500/37500 [==============================] - 6s 170us/step - loss: 1.8599 - acc: 0.3256 - val_loss: 1.7711 - val_acc: 0.3510\n",
      "Epoch 2/20\n",
      "37500/37500 [==============================] - 6s 156us/step - loss: 1.7040 - acc: 0.3879 - val_loss: 1.7206 - val_acc: 0.3752\n",
      "Epoch 3/20\n",
      "37500/37500 [==============================] - 6s 150us/step - loss: 1.6392 - acc: 0.4111 - val_loss: 1.6186 - val_acc: 0.4158\n",
      "Epoch 4/20\n",
      "37500/37500 [==============================] - 6s 149us/step - loss: 1.5927 - acc: 0.4300 - val_loss: 1.5807 - val_acc: 0.4294\n",
      "Epoch 5/20\n",
      "37500/37500 [==============================] - 6s 149us/step - loss: 1.5668 - acc: 0.4388 - val_loss: 1.5665 - val_acc: 0.4386\n",
      "Epoch 6/20\n",
      "37500/37500 [==============================] - 6s 151us/step - loss: 1.5399 - acc: 0.4488 - val_loss: 1.5648 - val_acc: 0.4372\n",
      "Epoch 7/20\n",
      "37500/37500 [==============================] - 6s 155us/step - loss: 1.5223 - acc: 0.4537 - val_loss: 1.5415 - val_acc: 0.4513\n",
      "Epoch 8/20\n",
      "37500/37500 [==============================] - 6s 153us/step - loss: 1.5067 - acc: 0.4601 - val_loss: 1.5446 - val_acc: 0.4521\n",
      "Epoch 9/20\n",
      "37500/37500 [==============================] - 6s 149us/step - loss: 1.4961 - acc: 0.4621 - val_loss: 1.6303 - val_acc: 0.4277\n",
      "Epoch 10/20\n",
      "37500/37500 [==============================] - 6s 149us/step - loss: 1.4841 - acc: 0.4684 - val_loss: 1.5929 - val_acc: 0.4400\n"
     ]
    }
   ],
   "source": [
    "results=np.zeros((0,2))\n",
    "lr_val=[0.001,0.005,0.01]\n",
    "#Monitor for 3 epochs if loss doesnt imporve\n",
    "\n",
    "for lr in lr_val:\n",
    "    numofFeatures=train_data.shape[1]\n",
    "    model=Sequential()\n",
    "    model.add(Dense(100, activation='relu', input_shape=(numofFeatures,)))\n",
    "    model.add(Dense(100,activation='relu'))\n",
    "    model.add(Dense(10, activation='softmax'))\n",
    "\n",
    "    early_stopping_monitor = EarlyStopping(patience=3)\n",
    "\n",
    "    sgd = optimizers.SGD(lr=lr_val[2], decay=1e-6, momentum=0.9, nesterov=True)\n",
    "    model.compile(optimizer=sgd,loss='categorical_crossentropy',metrics=['accuracy'])\n",
    "    history=model.fit(X_train,y_train,epochs=20, validation_data=(X_test,y_test),callbacks=[early_stopping_monitor])\n",
    "    \n",
    "    tmp=np.zeros((len(history.history['val_acc']),2))\n",
    "    tmp[:,0]=lr\n",
    "    tmp[:,1]=history.history['val_acc']\n",
    "    \n",
    "    results=np.vstack((results,tmp))"
   ]
  },
  {
   "cell_type": "code",
   "execution_count": 60,
   "metadata": {},
   "outputs": [],
   "source": [
    "df= pd.DataFrame(results,columns=['Learning Rate','Validation Accuracy'])"
   ]
  },
  {
   "cell_type": "code",
   "execution_count": 63,
   "metadata": {},
   "outputs": [
    {
     "data": {
      "text/plain": [
       "<matplotlib.axes._subplots.AxesSubplot at 0x7fbed7858eb8>"
      ]
     },
     "execution_count": 63,
     "metadata": {},
     "output_type": "execute_result"
    },
    {
     "data": {
      "image/png": "[encoded data removed]",
      "text/plain": [
       "<Figure size 432x288 with 1 Axes>"
      ]
     },
     "metadata": {
      "needs_background": "light"
     },
     "output_type": "display_data"
    }
   ],
   "source": [
    "import warnings\n",
    "warnings.simplefilter(action='ignore', category=FutureWarning)\n",
    "sns.pointplot(x=\"Learning Rate\",y=\"Validation Accuracy\",data=df)"
   ]
  },
  {
   "cell_type": "markdown",
   "metadata": {},
   "source": [
    "__Testing Accuracy__"
   ]
  },
  {
   "cell_type": "code",
   "execution_count": 2,
   "metadata": {},
   "outputs": [
    {
     "ename": "NameError",
     "evalue": "name 'train_data' is not defined",
     "output_type": "error",
     "traceback": [
      "\u001b[0;31m---------------------------------------------------------------------------\u001b[0m",
      "\u001b[0;31mNameError\u001b[0m                                 Traceback (most recent call last)",
      "\u001b[0;32m<ipython-input-2-414dbd3e2c6f>\u001b[0m in \u001b[0;36m<module>\u001b[0;34m\u001b[0m\n\u001b[0;32m----> 1\u001b[0;31m \u001b[0mnumofFeatures\u001b[0m\u001b[0;34m=\u001b[0m\u001b[0mtrain_data\u001b[0m\u001b[0;34m.\u001b[0m\u001b[0mshape\u001b[0m\u001b[0;34m[\u001b[0m\u001b[0;36m1\u001b[0m\u001b[0;34m]\u001b[0m\u001b[0;34m\u001b[0m\u001b[0;34m\u001b[0m\u001b[0m\n\u001b[0m\u001b[1;32m      2\u001b[0m \u001b[0mmodel\u001b[0m\u001b[0;34m=\u001b[0m\u001b[0mSequential\u001b[0m\u001b[0;34m(\u001b[0m\u001b[0;34m)\u001b[0m\u001b[0;34m\u001b[0m\u001b[0;34m\u001b[0m\u001b[0m\n\u001b[1;32m      3\u001b[0m \u001b[0mmodel\u001b[0m\u001b[0;34m.\u001b[0m\u001b[0madd\u001b[0m\u001b[0;34m(\u001b[0m\u001b[0mDense\u001b[0m\u001b[0;34m(\u001b[0m\u001b[0;36m100\u001b[0m\u001b[0;34m,\u001b[0m \u001b[0mactivation\u001b[0m\u001b[0;34m=\u001b[0m\u001b[0;34m'relu'\u001b[0m\u001b[0;34m,\u001b[0m \u001b[0minput_shape\u001b[0m\u001b[0;34m=\u001b[0m\u001b[0;34m(\u001b[0m\u001b[0mnumofFeatures\u001b[0m\u001b[0;34m,\u001b[0m\u001b[0;34m)\u001b[0m\u001b[0;34m)\u001b[0m\u001b[0;34m)\u001b[0m\u001b[0;34m\u001b[0m\u001b[0;34m\u001b[0m\u001b[0m\n\u001b[1;32m      4\u001b[0m \u001b[0mmodel\u001b[0m\u001b[0;34m.\u001b[0m\u001b[0madd\u001b[0m\u001b[0;34m(\u001b[0m\u001b[0mDense\u001b[0m\u001b[0;34m(\u001b[0m\u001b[0;36m100\u001b[0m\u001b[0;34m,\u001b[0m\u001b[0mactivation\u001b[0m\u001b[0;34m=\u001b[0m\u001b[0;34m'relu'\u001b[0m\u001b[0;34m)\u001b[0m\u001b[0;34m)\u001b[0m\u001b[0;34m\u001b[0m\u001b[0;34m\u001b[0m\u001b[0m\n\u001b[1;32m      5\u001b[0m \u001b[0mmodel\u001b[0m\u001b[0;34m.\u001b[0m\u001b[0madd\u001b[0m\u001b[0;34m(\u001b[0m\u001b[0mDense\u001b[0m\u001b[0;34m(\u001b[0m\u001b[0;36m10\u001b[0m\u001b[0;34m,\u001b[0m \u001b[0mactivation\u001b[0m\u001b[0;34m=\u001b[0m\u001b[0;34m'softmax'\u001b[0m\u001b[0;34m)\u001b[0m\u001b[0;34m)\u001b[0m\u001b[0;34m\u001b[0m\u001b[0;34m\u001b[0m\u001b[0m\n",
      "\u001b[0;31mNameError\u001b[0m: name 'train_data' is not defined"
     ]
    }
   ],
   "source": [
    "numofFeatures=train_data.shape[1]\n",
    "model=Sequential()\n",
    "model.add(Dense(100, activation='relu', input_shape=(numofFeatures,)))\n",
    "model.add(Dense(100,activation='relu'))\n",
    "model.add(Dense(10, activation='softmax'))\n",
    "\n",
    "early_stopping_monitor = EarlyStopping(patience=3)\n",
    "\n",
    "sgd = optimizers.SGD(lr=0.005, decay=1e-6, momentum=0.9, nesterov=True)\n",
    "model.compile(optimizer=sgd,loss='categorical_crossentropy',metrics=['accuracy'])\n",
    "model.fit(X_train,y_train,epochs=20, validation_data=(X_test,y_test),callbacks=[early_stopping_monitor])"
   ]
  },
  {
   "cell_type": "code",
   "execution_count": null,
   "metadata": {},
   "outputs": [],
   "source": []
  }
 ],
 "metadata": {
  "kernelspec": {
   "display_name": "TensorFlow-GPU",
   "language": "python",
   "name": "tf-gpu"
  },
  "language_info": {
   "codemirror_mode": {
    "name": "ipython",
    "version": 3
   },
   "file_extension": ".py",
   "mimetype": "text/x-python",
   "name": "python",
   "nbconvert_exporter": "python",
   "pygments_lexer": "ipython3",
   "version": "3.6.7"
  }
 },
 "nbformat": 4,
 "nbformat_minor": 2
}
