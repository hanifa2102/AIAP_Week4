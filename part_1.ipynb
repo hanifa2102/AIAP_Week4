{
 "cells": [
  {
   "cell_type": "markdown",
   "metadata": {},
   "source": [
    "# Part 1. Initial assignment exploration"
   ]
  },
  {
   "cell_type": "markdown",
   "metadata": {},
   "source": [
    "## CIFAR-10 Data Loading and Preprocessing "
   ]
  },
  {
   "cell_type": "markdown",
   "metadata": {},
   "source": [
    "In this week, we will be using thie CIFAR-10 dataset. Instead of drawing the data from an existing source, we will work with the initial release from the [site where CIFAR-10 is hosted](https://www.cs.toronto.edu/~kriz/cifar.html). Sufficient documentation should be present in the page. Instead of extracting the data manually with your mouse, first, write a simple script to download, extract and move the data into a appropriate folder. Also spare a thought for how you might want to not store this data in your git repository."
   ]
  },
  {
   "cell_type": "code",
   "execution_count": 1,
   "metadata": {},
   "outputs": [],
   "source": [
    "from src.load_img import LoadImage\n",
    "import matplotlib.pyplot as plt\n",
    "import numpy as np\n",
    "import pandas as pd\n",
    "import seaborn as sns\n",
    "from sklearn.neighbors import KNeighborsClassifier\n",
    "from sklearn.pipeline import make_pipeline\n",
    "from sklearn.model_selection import cross_val_score"
   ]
  },
  {
   "cell_type": "markdown",
   "metadata": {},
   "source": [
    "Next, write a simple script to load and transform multiple pieces of the dataset into a simple vector stored in memory. You should end with both train and test data. You can also split the data into train, val, and test sets. "
   ]
  },
  {
   "cell_type": "code",
   "execution_count": 2,
   "metadata": {},
   "outputs": [
    {
     "name": "stdout",
     "output_type": "stream",
     "text": [
      "\n"
     ]
    }
   ],
   "source": [
    "imgloader = LoadImage()\n",
    "imgloader.load_unpickledata()"
   ]
  },
  {
   "cell_type": "markdown",
   "metadata": {},
   "source": [
    "Finally, visualize some examples from the dataset. For each label class present, visualise a few images at random to see what our data looks like. Depending on the data type, you also may need to do some image pre-processing by reshaping the image data into rows."
   ]
  },
  {
   "cell_type": "code",
   "execution_count": 3,
   "metadata": {},
   "outputs": [
    {
     "data": {
      "image/png": "[encoded data removed]",
      "text/plain": [
       "<Figure size 432x288 with 1 Axes>"
      ]
     },
     "metadata": {
      "needs_background": "light"
     },
     "output_type": "display_data"
    }
   ],
   "source": [
    "plt.imshow(imgloader.train_data_vis[0])\n",
    "plt.show()"
   ]
  },
  {
   "cell_type": "code",
   "execution_count": 4,
   "metadata": {},
   "outputs": [
    {
     "data": {
      "image/png": "[encoded data removed]",
      "text/plain": [
       "<Figure size 432x288 with 1 Axes>"
      ]
     },
     "metadata": {
      "needs_background": "light"
     },
     "output_type": "display_data"
    }
   ],
   "source": [
    "plt.imshow(imgloader.train_data_vis_gry[0],cmap='gray')\n",
    "plt.show()"
   ]
  },
  {
   "cell_type": "markdown",
   "metadata": {},
   "source": [
    "## k-Nearest Neighbor (kNN) exercise"
   ]
  },
  {
   "cell_type": "markdown",
   "metadata": {},
   "source": [
    "In here, you will need to implement a KNN (K-nearest neighbours) classifier for the CIFAR-10 dataset. Apply best k-fold cross validation to find the best K and L (Euclidean or Manhattan distance) pair by plotting the resulting average accuracies and standard deviations and choosing the pair which produces the highest average accuracy first and lowest standard deviation second. Use this pair to find the accuracy per class and average accuracy on the testing set. Find out if grayscalse would produce a better accuracy than colored.\n",
    "\n",
    "The kNN classifier consists of two stages:\n",
    "\n",
    "- During training, the classifier takes the training data and simply remembers it\n",
    "- During testing, kNN classifies every test image by comparing to all training images and transfering the labels of the k most similar training examples\n",
    "- The value of k is cross-validated\n",
    "\n",
    "In this part of exercise, you will implement these steps and understand the basic image classification pipeline, cross-validation, and gain proficiency in writing efficient, vectorized code.\n",
    "\n",
    "As a bonus, you may also wish to try manually creating features that you can put into such a classifier."
   ]
  },
  {
   "cell_type": "markdown",
   "metadata": {},
   "source": [
    "__Load Training and Testing Data__\n",
    " - Long Training times on the 50K samples.Thus subsampling of images was deployed."
   ]
  },
  {
   "cell_type": "code",
   "execution_count": 5,
   "metadata": {
    "scrolled": false
   },
   "outputs": [],
   "source": [
    "train_data,train_labels,test_data,test_labels=imgloader.getData()"
   ]
  },
  {
   "cell_type": "code",
   "execution_count": 6,
   "metadata": {},
   "outputs": [],
   "source": [
    "n_neighbours=[2,5,8]\n",
    "p_dist=[1,2]"
   ]
  },
  {
   "cell_type": "markdown",
   "metadata": {},
   "source": [
    "__Sampling Color Images__"
   ]
  },
  {
   "cell_type": "code",
   "execution_count": 7,
   "metadata": {},
   "outputs": [
    {
     "data": {
      "text/plain": [
       "(array([0, 1, 2, 3, 4, 5, 6, 7, 8, 9]),\n",
       " array([102, 112,  99,  92,  99,  85, 107, 102,  99, 103]))"
      ]
     },
     "execution_count": 7,
     "metadata": {},
     "output_type": "execute_result"
    }
   ],
   "source": [
    "train_data=train_data[0:1000]\n",
    "train_labels=train_labels[0:1000]\n",
    "#Check distribution\n",
    "np.unique(train_labels, return_counts=True)"
   ]
  },
  {
   "cell_type": "code",
   "execution_count": 8,
   "metadata": {},
   "outputs": [],
   "source": [
    "result_color=np.zeros((0,3))"
   ]
  },
  {
   "cell_type": "code",
   "execution_count": 9,
   "metadata": {},
   "outputs": [
    {
     "name": "stdout",
     "output_type": "stream",
     "text": [
      "Neighbours is 2 and p_dist is 1 and mean accuracy is 0.213180\n",
      "Neighbours is 2 and p_dist is 2 and mean accuracy is 0.208028\n",
      "Neighbours is 5 and p_dist is 1 and mean accuracy is 0.241032\n",
      "Neighbours is 5 and p_dist is 2 and mean accuracy is 0.212951\n",
      "Neighbours is 8 and p_dist is 1 and mean accuracy is 0.243416\n",
      "Neighbours is 8 and p_dist is 2 and mean accuracy is 0.221278\n"
     ]
    }
   ],
   "source": [
    "for n in n_neighbours:\n",
    "    for p in p_dist:\n",
    "        knn_pipeline = make_pipeline(KNeighborsClassifier(n_neighbors=n,p=p))\n",
    "        x=cross_val_score(knn_pipeline, train_data, train_labels.ravel(), cv=5,n_jobs=-1)\n",
    "        tmp=np.zeros((5,3))\n",
    "        tmp[:,0]=n\n",
    "        tmp[:,1]=p\n",
    "        tmp[:,2]=x\n",
    "        print(\"Neighbours is %d and p_dist is %d and mean accuracy is %f\" %(n,p,tmp[:,2].mean()))\n",
    "        result_color=np.vstack((result_color,tmp))"
   ]
  },
  {
   "cell_type": "code",
   "execution_count": 10,
   "metadata": {},
   "outputs": [],
   "source": [
    "df= pd.DataFrame(result_color,columns=['K_neighbours','P_dist','Accuracy'])"
   ]
  },
  {
   "cell_type": "markdown",
   "metadata": {},
   "source": [
    "__Sampling Gray Images__"
   ]
  },
  {
   "cell_type": "code",
   "execution_count": 11,
   "metadata": {},
   "outputs": [],
   "source": [
    "train_data_gray,train_labels,test_data_gray,test_labels=imgloader.getDataGry()"
   ]
  },
  {
   "cell_type": "code",
   "execution_count": 12,
   "metadata": {},
   "outputs": [
    {
     "data": {
      "text/plain": [
       "(array([0, 1, 2, 3, 4, 5, 6, 7, 8, 9]),\n",
       " array([102, 112,  99,  92,  99,  85, 107, 102,  99, 103]))"
      ]
     },
     "execution_count": 12,
     "metadata": {},
     "output_type": "execute_result"
    }
   ],
   "source": [
    "train_data_gray=train_data_gray[0:1000]\n",
    "train_labels=train_labels[0:1000]\n",
    "#Check distribution\n",
    "np.unique(train_labels, return_counts=True)"
   ]
  },
  {
   "cell_type": "code",
   "execution_count": 13,
   "metadata": {},
   "outputs": [],
   "source": [
    "result_gray=np.zeros((0,3))"
   ]
  },
  {
   "cell_type": "code",
   "execution_count": 14,
   "metadata": {},
   "outputs": [
    {
     "name": "stdout",
     "output_type": "stream",
     "text": [
      "Neighbours is 2 and p_dist is 1 and mean accuracy is 0.202923\n",
      "Neighbours is 2 and p_dist is 2 and mean accuracy is 0.172002\n",
      "Neighbours is 5 and p_dist is 1 and mean accuracy is 0.210051\n",
      "Neighbours is 5 and p_dist is 2 and mean accuracy is 0.199037\n",
      "Neighbours is 8 and p_dist is 1 and mean accuracy is 0.214217\n",
      "Neighbours is 8 and p_dist is 2 and mean accuracy is 0.210043\n"
     ]
    }
   ],
   "source": [
    "for n in n_neighbours:\n",
    "    for p in p_dist:\n",
    "        knn_pipeline = make_pipeline(KNeighborsClassifier(n_neighbors=n,p=p))\n",
    "        x=cross_val_score(knn_pipeline, train_data_gray, train_labels.ravel(), cv=5,n_jobs=-1)\n",
    "        tmp=np.zeros((5,3))\n",
    "        tmp[:,0]=n\n",
    "        tmp[:,1]=p\n",
    "        tmp[:,2]=x\n",
    "        print(\"Neighbours is %d and p_dist is %d and mean accuracy is %f\" %(n,p,tmp[:,2].mean()))\n",
    "        result_gray=np.vstack((result_gray,tmp))"
   ]
  },
  {
   "cell_type": "code",
   "execution_count": 15,
   "metadata": {},
   "outputs": [],
   "source": [
    "df_gray= pd.DataFrame(result_gray,columns=['K_neighbours','P_dist','Accuracy'])"
   ]
  },
  {
   "cell_type": "markdown",
   "metadata": {},
   "source": [
    "#### Provide some reporting and visualization of KNN results in CIFAR-10"
   ]
  },
  {
   "cell_type": "code",
   "execution_count": 16,
   "metadata": {},
   "outputs": [
    {
     "data": {
      "text/plain": [
       "<matplotlib.axes._subplots.AxesSubplot at 0x7fa4c927ee10>"
      ]
     },
     "execution_count": 16,
     "metadata": {},
     "output_type": "execute_result"
    },
    {
     "data": {
      "image/png": "[encoded data removed]",
      "text/plain": [
       "<Figure size 432x288 with 1 Axes>"
      ]
     },
     "metadata": {
      "needs_background": "light"
     },
     "output_type": "display_data"
    }
   ],
   "source": [
    "import warnings\n",
    "warnings.simplefilter(action='ignore', category=FutureWarning)\n",
    "plt.title(\"Adjusting Neighbours and P_dist for Color Images\")\n",
    "sns.pointplot(x=\"K_neighbours\",y=\"Accuracy\",data=df,hue='P_dist')"
   ]
  },
  {
   "cell_type": "code",
   "execution_count": 17,
   "metadata": {},
   "outputs": [
    {
     "data": {
      "text/plain": [
       "<matplotlib.axes._subplots.AxesSubplot at 0x7fa4c821bda0>"
      ]
     },
     "execution_count": 17,
     "metadata": {},
     "output_type": "execute_result"
    },
    {
     "data": {
      "image/png": "[encoded data removed]",
      "text/plain": [
       "<Figure size 432x288 with 1 Axes>"
      ]
     },
     "metadata": {
      "needs_background": "light"
     },
     "output_type": "display_data"
    }
   ],
   "source": [
    "plt.title(\"Adjusting Neighbours and P_dist for Gray Images\")\n",
    "sns.pointplot(x=\"K_neighbours\",y=\"Accuracy\",data=df_gray,hue='P_dist')"
   ]
  },
  {
   "cell_type": "markdown",
   "metadata": {},
   "source": [
    "#### Conclusions for KNN on Cifar Data Set"
   ]
  },
  {
   "cell_type": "markdown",
   "metadata": {},
   "source": [
    "- Factors which gave higher accuracy\n",
    "    - Increasing K-neighhours\n",
    "    - Using p(=1), Manhatten distance as opposed to Eucliean distance\n",
    "    - Color Scale perfored better."
   ]
  }
 ],
 "metadata": {
  "kernelspec": {
   "display_name": "Python 3",
   "language": "python",
   "name": "python3"
  },
  "language_info": {
   "codemirror_mode": {
    "name": "ipython",
    "version": 3
   },
   "file_extension": ".py",
   "mimetype": "text/x-python",
   "name": "python",
   "nbconvert_exporter": "python",
   "pygments_lexer": "ipython3",
   "version": "3.6.7"
  }
 },
 "nbformat": 4,
 "nbformat_minor": 1
}
